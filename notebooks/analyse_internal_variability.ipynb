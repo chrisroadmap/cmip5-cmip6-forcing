{
 "cells": [
  {
   "cell_type": "markdown",
   "id": "4e9ca661",
   "metadata": {},
   "source": [
    "# Analyse internal variability in CanESM5 historical ensemble\n",
    "\n",
    "This is in response to a reviewer who suggested that we use internal variability from a suitably large CMIP ensemble as the \"uncertainty\" to determine whether CMIP5 and CMIP6 are significantly different."
   ]
  },
  {
   "cell_type": "code",
   "execution_count": null,
   "id": "ef2eb8da",
   "metadata": {},
   "outputs": [],
   "source": [
    "import numpy as np\n",
    "import matplotlib.pyplot as pl\n",
    "import json\n",
    "import pandas as pd"
   ]
  },
  {
   "cell_type": "code",
   "execution_count": null,
   "id": "bd419e29",
   "metadata": {},
   "outputs": [],
   "source": [
    "experiment = 'historical'\n",
    "nyears = 165\n",
    "model = 'CanESM5'"
   ]
  },
  {
   "cell_type": "code",
   "execution_count": null,
   "id": "f7bfc095",
   "metadata": {},
   "outputs": [],
   "source": [
    "T = {}\n",
    "for p1 in range(1,26):\n",
    "    run = 'r%si1p1f1' % p1\n",
    "    data = pd.read_csv('../data_output/cmip6/%s/%s/%s.csv' % (model, run, experiment))\n",
    "    T[run] = data['tas'].values[:nyears]\n",
    "for p2 in range(1,41):\n",
    "    run = 'r%si1p2f1' % p2\n",
    "    data = pd.read_csv('../data_output/cmip6/%s/%s/%s.csv' % (model, run, experiment))\n",
    "    T[run] = data['tas'].values[:nyears]\n",
    "T_array = np.zeros((165,65))\n",
    "for i, run in enumerate(T.keys()):\n",
    "    T_array[:, i] = T[run]\n",
    "T_mean = np.mean(T_array, axis=1)"
   ]
  },
  {
   "cell_type": "code",
   "execution_count": null,
   "id": "9b9da02a",
   "metadata": {},
   "outputs": [],
   "source": [
    "for run in T.keys():\n",
    "    pl.plot(np.arange(1850,2015), T[run])\n",
    "pl.plot(np.arange(1850,2015), T_mean, color='k')"
   ]
  },
  {
   "cell_type": "code",
   "execution_count": null,
   "id": "0929f8e0",
   "metadata": {},
   "outputs": [],
   "source": [
    "# these are our var_t(epsilon_{e,t}) values\n",
    "var_t_of_epsilon_e_t = np.ones(65)*np.nan\n",
    "for i, run in enumerate(T.keys()):\n",
    "    var_t_of_epsilon_e_t[i] = (np.var(T[run] - T_mean))"
   ]
  },
  {
   "cell_type": "code",
   "execution_count": null,
   "id": "81344877",
   "metadata": {},
   "outputs": [],
   "source": [
    "np.sqrt(np.mean(var_t_of_epsilon_e_t))"
   ]
  }
 ],
 "metadata": {
  "kernelspec": {
   "display_name": "Python 3",
   "language": "python",
   "name": "python3"
  },
  "language_info": {
   "codemirror_mode": {
    "name": "ipython",
    "version": 3
   },
   "file_extension": ".py",
   "mimetype": "text/x-python",
   "name": "python",
   "nbconvert_exporter": "python",
   "pygments_lexer": "ipython3",
   "version": "3.9.4"
  }
 },
 "nbformat": 4,
 "nbformat_minor": 5
}
