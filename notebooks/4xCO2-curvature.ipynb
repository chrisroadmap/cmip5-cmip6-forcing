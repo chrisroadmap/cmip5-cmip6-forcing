{
 "cells": [
  {
   "cell_type": "markdown",
   "id": "a0242bc4",
   "metadata": {},
   "source": [
    "# 4xCO2 curvature\n",
    "\n",
    "Test the claim that the models in which the performance of the RFMIP fixed-SST and implied ERF differ the most are the ones with the greatest Gregory plot curvature."
   ]
  },
  {
   "cell_type": "code",
   "execution_count": null,
   "id": "725834a3",
   "metadata": {},
   "outputs": [],
   "source": [
    "import numpy as np\n",
    "import pandas as pd\n",
    "import json\n",
    "import matplotlib.pyplot as pl\n",
    "import glob\n",
    "from scipy.io.idl import readsav\n",
    "from scipy.stats import linregress"
   ]
  },
  {
   "cell_type": "markdown",
   "id": "ded246e8",
   "metadata": {},
   "source": [
    "## Set up plotting defaults"
   ]
  },
  {
   "cell_type": "code",
   "execution_count": null,
   "id": "9cd8f0f1",
   "metadata": {},
   "outputs": [],
   "source": [
    "pl.rcParams['font.size'] = 9\n",
    "pl.rcParams['font.family'] = 'Arial'\n",
    "pl.rcParams['xtick.direction'] = 'out'\n",
    "pl.rcParams['xtick.minor.visible'] = True\n",
    "pl.rcParams['ytick.minor.visible'] = True\n",
    "pl.rcParams['ytick.right'] = True\n",
    "pl.rcParams['xtick.top'] = True"
   ]
  },
  {
   "cell_type": "code",
   "execution_count": null,
   "id": "d2bfcb37",
   "metadata": {},
   "outputs": [],
   "source": [
    "colors = {\n",
    "    'cmip5': '#cc2323',\n",
    "    'cmip6': '#2551cc',\n",
    "}"
   ]
  },
  {
   "cell_type": "markdown",
   "id": "78b811d8",
   "metadata": {},
   "source": [
    "## Grab preprocessed data"
   ]
  },
  {
   "cell_type": "code",
   "execution_count": null,
   "id": "68547b80",
   "metadata": {},
   "outputs": [],
   "source": [
    "with open('../data_output/branch_points.json', 'r') as f:\n",
    "    branch_points = json.load(f)"
   ]
  },
  {
   "cell_type": "code",
   "execution_count": null,
   "id": "6814f8a6",
   "metadata": {},
   "outputs": [],
   "source": [
    "models = sorted(list(branch_points['abrupt-4xCO2'].keys()))\n",
    "models"
   ]
  },
  {
   "cell_type": "code",
   "execution_count": null,
   "id": "e1afd1ca",
   "metadata": {},
   "outputs": [],
   "source": [
    "piControls = {\n",
    "    'CanESM5': 'r1i1p1f1',\n",
    "    'CNRM-CM6-1': 'r1i1p1f2',\n",
    "    'GFDL-CM4': 'r1i1p1f1',\n",
    "    'GISS-E2-1-G': 'r1i1p1f1',\n",
    "    'HadGEM3-GC31-LL': 'r1i1p1f1',\n",
    "    'IPSL-CM6A-LR': 'r1i1p1f1',\n",
    "    'MIROC6': 'r1i1p1f1',\n",
    "    'NorESM2-LM': 'r1i1p1f1',\n",
    "}"
   ]
  },
  {
   "cell_type": "code",
   "execution_count": null,
   "id": "d55e50ed",
   "metadata": {},
   "outputs": [],
   "source": [
    "piControl = {}\n",
    "experiments = {}"
   ]
  },
  {
   "cell_type": "code",
   "execution_count": null,
   "id": "0d7f9036",
   "metadata": {},
   "outputs": [],
   "source": [
    "for model in models:\n",
    "    piControl[model] = pd.read_csv('../data_output/cmip6/%s/%s/piControl.csv' % (model, piControls[model]))"
   ]
  },
  {
   "cell_type": "code",
   "execution_count": null,
   "id": "80ecb00d",
   "metadata": {},
   "outputs": [],
   "source": [
    "delta_N = {}\n",
    "delta_T = {}\n",
    "\n",
    "for experiment in ['abrupt-4xCO2']:\n",
    "    nyears = 150\n",
    "    delta_N[experiment] = {}\n",
    "    delta_T[experiment] = {}\n",
    "    for model in branch_points[experiment].keys():\n",
    "        delta_N[experiment][model] = {}\n",
    "        delta_T[experiment][model] = {}\n",
    "        for run in list(branch_points[experiment][model].keys()):\n",
    "            data = pd.read_csv('../data_output/cmip6/%s/%s/%s.csv' % (model, run, experiment))\n",
    "            index_start = branch_points[experiment][model][run]\n",
    "            N_4x = data['rsdt'].values[:nyears] - data['rsut'].values[:nyears] - data['rlut'].values[:nyears]\n",
    "            piC = piControl[model]\n",
    "            N_piControl = (\n",
    "                piC['rsdt'][index_start:index_start+nyears].values - \n",
    "                piC['rsut'][index_start:index_start+nyears].values - \n",
    "                piC['rlut'][index_start:index_start+nyears].values\n",
    "            )\n",
    "            delta_N[experiment][model] = N_4x - N_piControl\n",
    "            delta_T[experiment][model] = data['tas'].values[:nyears] - piC['tas'][index_start:index_start+nyears].values"
   ]
  },
  {
   "cell_type": "markdown",
   "id": "7a8ce194",
   "metadata": {},
   "source": [
    "## Plot fig. S2 and get data for table S2"
   ]
  },
  {
   "cell_type": "code",
   "execution_count": null,
   "id": "e9049fdc",
   "metadata": {},
   "outputs": [],
   "source": [
    "# Hand order models by slope\n",
    "models = ['GISS-E2-1-G', 'MIROC6', 'CNRM-CM6-1', 'CanESM5', 'HadGEM3-GC31-LL', 'IPSL-CM6A-LR', 'GFDL-CM4', 'NorESM2-LM']\n",
    "\n",
    "experiment='abrupt-4xCO2'\n",
    "fig, ax = pl.subplots(4, 2, figsize=(19/2.54, 23/2.54))\n",
    "for i, model in enumerate(models):\n",
    "    col = i%2\n",
    "    row = i//2\n",
    "    ax[row,col].scatter(delta_T[experiment][model], delta_N[experiment][model], color=colors['cmip6'])\n",
    "    ax[row,col].set_title('(%s) %s' % (chr(97+i), model))\n",
    "    ax[row,col].set_xlabel('$\\Delta T$ (K)')\n",
    "    ax[row,col].set_ylabel('$\\Delta N$ (W m$^{-2}$)')\n",
    "    ax[row,col].grid()\n",
    "\n",
    "    regress001_020 = linregress(delta_T[experiment][model][:20], delta_N[experiment][model][:20])\n",
    "    regress021_150 = linregress(delta_T[experiment][model][20:], delta_N[experiment][model][20:])\n",
    "    print(model, regress001_020.slope, regress021_150.slope, regress001_020.slope/regress021_150.slope)\n",
    "    x_min001_020 = np.min(delta_T[experiment][model][:20])\n",
    "    x_max001_020 = np.max(delta_T[experiment][model][:20])\n",
    "    y_min001_020 = np.min(delta_N[experiment][model][:20])\n",
    "    y_max001_020 = np.max(delta_N[experiment][model][:20])\n",
    "    x_min021_150 = np.min(delta_T[experiment][model][20:])\n",
    "    x_max021_150 = np.max(delta_T[experiment][model][20:])\n",
    "    y_min021_150 = np.min(delta_N[experiment][model][20:])\n",
    "    y_max021_150 = np.max(delta_N[experiment][model][20:])\n",
    "    \n",
    "    # plot regression slope first 20\n",
    "    ax[row,col].plot(np.linspace(x_min001_020-0.2, x_max001_020+0.2), regress001_020.slope*np.linspace(x_min001_020-0.2, x_max001_020+0.2)+regress001_020.intercept, color='k', label='Years 1-20')\n",
    "\n",
    "    # plot regression slope 21-150\n",
    "    ax[row,col].plot(np.linspace(x_min021_150-0.2, x_max021_150+0.2), regress021_150.slope*np.linspace(x_min021_150-0.2, x_max021_150+0.2)+regress021_150.intercept, color='k', ls='--', label='Years 21-150')\n",
    "\n",
    "    \n",
    "#    # plot 1:1 line\n",
    "#    ax[row,col].plot(np.linspace(x_min-0.2, x_max+0.2), np.linspace(x_min-0.2, x_max+0.2), color='0.4', ls='--', label='1:1 line')\n",
    "    \n",
    "    # axis bounds\n",
    "    ax[row,col].set_xlim(0, 9)\n",
    "    ax[row,col].set_ylim(0, 8)\n",
    "    \n",
    "    #ax[row,col].legend()\n",
    "    if model not in ['GFDL-CM4', 'IPSL-CM6A-LR', 'MIROC6', 'NorESM2-LM', 'GISS-E2-1-G']:\n",
    "        ax[row,col].text(0.02,0.16,r'$\\lambda_{1\\rightarrow 20} = %4.2f$ W m$^{-2}$ K$^{-1}$' % regress001_020.slope, ha='left', va='bottom', transform=ax[row,col].transAxes, backgroundcolor='w', bbox=dict(boxstyle='square,pad=0.1',ec='w',fc='w'))\n",
    "        ax[row,col].text(0.02,0.02,r'$\\lambda_{21\\rightarrow 150} = %4.2f$ W m$^{-2}$ K$^{-1}$' % regress021_150.slope, ha='left', va='bottom', transform=ax[row,col].transAxes, backgroundcolor='w', bbox=dict(boxstyle='square,pad=0.1',ec='w',fc='w'))\n",
    "        ax[row,col].text(0.02,0.32,r'curvature = %4.2f' % (regress001_020.slope/regress021_150.slope), ha='left', va='bottom', transform=ax[row,col].transAxes, backgroundcolor='w', bbox=dict(boxstyle='square,pad=0.1',ec='w',fc='w'))\n",
    "    else:\n",
    "        ax[row,col].text(0.98,0.83,r'$\\lambda_{1\\rightarrow 20} = %4.2f$ W m$^{-2}$ K$^{-1}$' % regress001_020.slope, ha='right', va='bottom', transform=ax[row,col].transAxes, backgroundcolor='w', bbox=dict(boxstyle='square,pad=0.1',ec='w',fc='w'))\n",
    "        ax[row,col].text(0.98,0.69,r'$\\lambda_{21\\rightarrow 150} = %4.2f$ W m$^{-2}$ K$^{-1}$' % regress021_150.slope, ha='right', va='bottom', transform=ax[row,col].transAxes, backgroundcolor='w', bbox=dict(boxstyle='square,pad=0.1',ec='w',fc='w'))\n",
    "        ax[row,col].text(0.98,0.57,r'curvature = %4.2f' % (regress001_020.slope/regress021_150.slope), ha='right', va='bottom', transform=ax[row,col].transAxes, backgroundcolor='w', bbox=dict(boxstyle='square,pad=0.1',ec='w',fc='w'))\n",
    "\n",
    "fig.tight_layout(rect=[0.02, 0, 1, 1])\n",
    "pl.savefig('../plots/figS2.pdf')"
   ]
  },
  {
   "cell_type": "code",
   "execution_count": null,
   "id": "49a308da",
   "metadata": {},
   "outputs": [],
   "source": []
  }
 ],
 "metadata": {
  "kernelspec": {
   "display_name": "Python 3",
   "language": "python",
   "name": "python3"
  },
  "language_info": {
   "codemirror_mode": {
    "name": "ipython",
    "version": 3
   },
   "file_extension": ".py",
   "mimetype": "text/x-python",
   "name": "python",
   "nbconvert_exporter": "python",
   "pygments_lexer": "ipython3",
   "version": "3.9.4"
  }
 },
 "nbformat": 4,
 "nbformat_minor": 5
}
