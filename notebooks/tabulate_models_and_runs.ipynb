{
 "cells": [
  {
   "cell_type": "markdown",
   "id": "325892a7",
   "metadata": {},
   "source": [
    "# Make formatted table S1 for CMIP6 models\n",
    "\n",
    "This details the models and runs that we used.\n",
    "\n",
    "We do CMIP5 separately as we use Piers's data."
   ]
  },
  {
   "cell_type": "code",
   "execution_count": null,
   "id": "385df2e6",
   "metadata": {},
   "outputs": [],
   "source": [
    "import json"
   ]
  },
  {
   "cell_type": "code",
   "execution_count": null,
   "id": "64563a1d",
   "metadata": {},
   "outputs": [],
   "source": [
    "with open('../data_output/branch_points.json', 'r') as f:\n",
    "    branch_points = json.load(f)"
   ]
  },
  {
   "cell_type": "code",
   "execution_count": null,
   "id": "6bc111ea",
   "metadata": {},
   "outputs": [],
   "source": [
    "def sort_on_run(runs):\n",
    "    runtuples = []\n",
    "    for run in runs:\n",
    "        index = int(run[1:].split('i')[0])\n",
    "        runtuples.append((index, run))\n",
    "    return sorted(runtuples)"
   ]
  },
  {
   "cell_type": "code",
   "execution_count": null,
   "id": "c8b7bd88",
   "metadata": {},
   "outputs": [],
   "source": [
    "for expt in branch_points.keys():\n",
    "    print(expt)\n",
    "    print('-----------')\n",
    "    for model in branch_points[expt].keys():\n",
    "        runs = branch_points[expt][model].keys()\n",
    "        runtuples = sort_on_run(runs)\n",
    "        print(model)\n",
    "        for i in runtuples:\n",
    "            print(i[1])\n",
    "        print()"
   ]
  },
  {
   "cell_type": "code",
   "execution_count": null,
   "id": "ce0a4866",
   "metadata": {},
   "outputs": [],
   "source": []
  }
 ],
 "metadata": {
  "kernelspec": {
   "display_name": "Python 3",
   "language": "python",
   "name": "python3"
  },
  "language_info": {
   "codemirror_mode": {
    "name": "ipython",
    "version": 3
   },
   "file_extension": ".py",
   "mimetype": "text/x-python",
   "name": "python",
   "nbconvert_exporter": "python",
   "pygments_lexer": "ipython3",
   "version": "3.9.4"
  }
 },
 "nbformat": 4,
 "nbformat_minor": 5
}
